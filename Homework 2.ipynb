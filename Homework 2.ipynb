{
 "cells": [
  {
   "cell_type": "markdown",
   "metadata": {},
   "source": [
    "## Homework 2"
   ]
  },
  {
   "cell_type": "markdown",
   "metadata": {},
   "source": [
    "This homework covers the material in Lessons 3 & 4.  It is due **Thurday, June 15**.  Please submit your **answers as a PDF**."
   ]
  },
  {
   "cell_type": "markdown",
   "metadata": {},
   "source": [
    "1\\. Modify the LU method (without pivoting) to work **in-place**.  That is, it should not allocate any new memory for L or U, but instead overwrite A."
   ]
  },
  {
   "cell_type": "code",
   "execution_count": 8,
   "metadata": {
    "collapsed": true
   },
   "outputs": [
    {
     "data": {
      "text/plain": [
       "((array([[1., 0., 0.],\n",
       "         [2., 1., 0.],\n",
       "         [4., 1., 1.]]),\n",
       "  array([[ 1.,  2.,  3.],\n",
       "         [ 0., -1.,  2.],\n",
       "         [ 0.,  0., -8.]])),\n",
       " array([[ 1.,  2.,  3.],\n",
       "        [ 2., -1.,  2.],\n",
       "        [ 4.,  1., -8.]]))"
      ]
     },
     "execution_count": 8,
     "metadata": {},
     "output_type": "execute_result"
    }
   ],
   "source": [
    "def LU(A):\n",
    "    U = np.copy(A)\n",
    "    m, n = A.shape\n",
    "    L = np.eye(n)\n",
    "    for k in range(n-1):\n",
    "        for j in range(k+1,n):\n",
    "            L[j,k] = U[j,k]/U[k,k]\n",
    "            U[j,k:n] -= L[j,k] * U[k,k:n]\n",
    "            # print(f'LU:\\n{L}\\n{U}')\n",
    "    return L, U\n",
    "\n",
    "def LU_inplace(A):\n",
    "    m, n = A.shape\n",
    "    for k in range(n-1):\n",
    "        for j in range(k+1,n):\n",
    "            Lt = A[j,k]/A[k,k]\n",
    "            A[j,k:n] -= Lt * A[k,k:n]\n",
    "            A[j,k] = Lt\n",
    "            # print(f'LU_inplace:\\n{A}')\n",
    "    return A\n",
    "\n",
    "import numpy as np\n",
    "\n",
    "A = np.array([[1,2,3],\n",
    "              [2,3,8],\n",
    "              [4,7,6]], float)\n",
    "\n",
    "LU(A), LU_inplace(A)"
   ]
  },
  {
   "cell_type": "markdown",
   "metadata": {},
   "source": [
    "2\\. Modify our LU method from class to add pivoting, as described in the lesson.  *Hint: the swap method below will be useful* "
   ]
  },
  {
   "cell_type": "code",
   "execution_count": 23,
   "metadata": {
    "collapsed": true
   },
   "outputs": [
    {
     "name": "stdout",
     "output_type": "stream",
     "text": [
      "LU:\n",
      "[[0. 0. 0. 0.]\n",
      " [0. 0. 0. 0.]\n",
      " [0. 0. 0. 0.]\n",
      " [0. 0. 0. 0.]]\n",
      "[[2. 1. 1. 0.]\n",
      " [4. 3. 3. 1.]\n",
      " [8. 7. 9. 5.]\n",
      " [6. 7. 9. 8.]]\n",
      "[[1. 0. 0. 0.]\n",
      " [0. 1. 0. 0.]\n",
      " [0. 0. 1. 0.]\n",
      " [0. 0. 0. 1.]]\n",
      "LU:\n",
      "[[0. 0. 0. 0.]\n",
      " [0. 0. 0. 0.]\n",
      " [0. 0. 0. 0.]\n",
      " [0. 0. 0. 0.]]\n",
      "[[8. 7. 9. 5.]\n",
      " [4. 3. 3. 1.]\n",
      " [2. 1. 1. 0.]\n",
      " [6. 7. 9. 8.]]\n",
      "[[0. 0. 1. 0.]\n",
      " [0. 1. 0. 0.]\n",
      " [1. 0. 0. 0.]\n",
      " [0. 0. 0. 1.]]\n",
      "LU:\n",
      "[[0.  0.  0.  0. ]\n",
      " [0.5 0.  0.  0. ]\n",
      " [0.  0.  0.  0. ]\n",
      " [0.  0.  0.  0. ]]\n",
      "[[ 8.   7.   9.   5. ]\n",
      " [ 0.  -0.5 -1.5 -1.5]\n",
      " [ 2.   1.   1.   0. ]\n",
      " [ 6.   7.   9.   8. ]]\n",
      "[[0. 0. 1. 0.]\n",
      " [0. 1. 0. 0.]\n",
      " [1. 0. 0. 0.]\n",
      " [0. 0. 0. 1.]]\n",
      "LU:\n",
      "[[0.   0.   0.   0.  ]\n",
      " [0.5  0.   0.   0.  ]\n",
      " [0.25 0.   0.   0.  ]\n",
      " [0.   0.   0.   0.  ]]\n",
      "[[ 8.    7.    9.    5.  ]\n",
      " [ 0.   -0.5  -1.5  -1.5 ]\n",
      " [ 0.   -0.75 -1.25 -1.25]\n",
      " [ 6.    7.    9.    8.  ]]\n",
      "[[0. 0. 1. 0.]\n",
      " [0. 1. 0. 0.]\n",
      " [1. 0. 0. 0.]\n",
      " [0. 0. 0. 1.]]\n",
      "LU:\n",
      "[[0.   0.   0.   0.  ]\n",
      " [0.5  0.   0.   0.  ]\n",
      " [0.25 0.   0.   0.  ]\n",
      " [0.75 0.   0.   0.  ]]\n",
      "[[ 8.    7.    9.    5.  ]\n",
      " [ 0.   -0.5  -1.5  -1.5 ]\n",
      " [ 0.   -0.75 -1.25 -1.25]\n",
      " [ 0.    1.75  2.25  4.25]]\n",
      "[[0. 0. 1. 0.]\n",
      " [0. 1. 0. 0.]\n",
      " [1. 0. 0. 0.]\n",
      " [0. 0. 0. 1.]]\n",
      "LU:\n",
      "[[1.   0.   0.   0.  ]\n",
      " [0.75 0.   0.   0.  ]\n",
      " [0.25 0.   0.   0.  ]\n",
      " [0.5  0.   0.   0.  ]]\n",
      "[[ 8.    7.    9.    5.  ]\n",
      " [ 0.    1.75  2.25  4.25]\n",
      " [ 0.   -0.75 -1.25 -1.25]\n",
      " [ 0.   -0.5  -1.5  -1.5 ]]\n",
      "[[0. 0. 1. 0.]\n",
      " [0. 0. 0. 1.]\n",
      " [1. 0. 0. 0.]\n",
      " [0. 1. 0. 0.]]\n",
      "LU:\n",
      "[[ 1.          0.          0.          0.        ]\n",
      " [ 0.75        0.          0.          0.        ]\n",
      " [ 0.25       -0.42857143  0.          0.        ]\n",
      " [ 0.5         0.          0.          0.        ]]\n",
      "[[ 8.          7.          9.          5.        ]\n",
      " [ 0.          1.75        2.25        4.25      ]\n",
      " [ 0.          0.         -0.28571429  0.57142857]\n",
      " [ 0.         -0.5        -1.5        -1.5       ]]\n",
      "[[0. 0. 1. 0.]\n",
      " [0. 0. 0. 1.]\n",
      " [1. 0. 0. 0.]\n",
      " [0. 1. 0. 0.]]\n",
      "LU:\n",
      "[[ 1.          0.          0.          0.        ]\n",
      " [ 0.75        0.          0.          0.        ]\n",
      " [ 0.25       -0.42857143  0.          0.        ]\n",
      " [ 0.5        -0.28571429  0.          0.        ]]\n",
      "[[ 8.          7.          9.          5.        ]\n",
      " [ 0.          1.75        2.25        4.25      ]\n",
      " [ 0.          0.         -0.28571429  0.57142857]\n",
      " [ 0.          0.         -0.85714286 -0.28571429]]\n",
      "[[0. 0. 1. 0.]\n",
      " [0. 0. 0. 1.]\n",
      " [1. 0. 0. 0.]\n",
      " [0. 1. 0. 0.]]\n",
      "LU:\n",
      "[[ 1.          0.          0.          0.        ]\n",
      " [ 0.75        1.          0.          0.        ]\n",
      " [ 0.25       -0.42857143  0.          0.        ]\n",
      " [ 0.5        -0.28571429  0.          0.        ]]\n",
      "[[ 8.          7.          9.          5.        ]\n",
      " [ 0.          1.75        2.25        4.25      ]\n",
      " [ 0.          0.         -0.28571429  0.57142857]\n",
      " [ 0.          0.         -0.85714286 -0.28571429]]\n",
      "[[0. 0. 1. 0.]\n",
      " [0. 0. 0. 1.]\n",
      " [1. 0. 0. 0.]\n",
      " [0. 1. 0. 0.]]\n",
      "LU:\n",
      "[[ 1.          0.          0.          0.        ]\n",
      " [ 0.75        1.          0.          0.        ]\n",
      " [ 0.25       -0.42857143  0.          0.        ]\n",
      " [ 0.5        -0.28571429  3.          0.        ]]\n",
      "[[ 8.          7.          9.          5.        ]\n",
      " [ 0.          1.75        2.25        4.25      ]\n",
      " [ 0.          0.         -0.28571429  0.57142857]\n",
      " [ 0.          0.          0.         -2.        ]]\n",
      "[[0. 0. 1. 0.]\n",
      " [0. 0. 0. 1.]\n",
      " [1. 0. 0. 0.]\n",
      " [0. 1. 0. 0.]]\n",
      "LU:\n",
      "[[ 1.          0.          0.          0.        ]\n",
      " [ 0.75        1.          0.          0.        ]\n",
      " [ 0.25       -0.42857143  1.          0.        ]\n",
      " [ 0.5        -0.28571429  3.          0.        ]]\n",
      "[[ 8.          7.          9.          5.        ]\n",
      " [ 0.          1.75        2.25        4.25      ]\n",
      " [ 0.          0.         -0.28571429  0.57142857]\n",
      " [ 0.          0.          0.         -2.        ]]\n",
      "[[0. 0. 1. 0.]\n",
      " [0. 0. 0. 1.]\n",
      " [1. 0. 0. 0.]\n",
      " [0. 1. 0. 0.]]\n"
     ]
    },
    {
     "data": {
      "text/plain": [
       "(array([[2., 1., 1., 0.],\n",
       "        [4., 3., 3., 1.],\n",
       "        [8., 7., 9., 5.],\n",
       "        [6., 7., 9., 8.]]),\n",
       " array([[ 1.        ,  0.        ,  0.        ,  0.        ],\n",
       "        [ 0.75      ,  1.        ,  0.        ,  0.        ],\n",
       "        [ 0.25      , -0.42857143,  1.        ,  0.        ],\n",
       "        [ 0.5       , -0.28571429,  3.        ,  1.        ]]),\n",
       " array([[ 8.        ,  7.        ,  9.        ,  5.        ],\n",
       "        [ 0.        ,  1.75      ,  2.25      ,  4.25      ],\n",
       "        [ 0.        ,  0.        , -0.28571429,  0.57142857],\n",
       "        [ 0.        ,  0.        ,  0.        , -2.        ]]),\n",
       " array([[0., 0., 1., 0.],\n",
       "        [0., 0., 0., 1.],\n",
       "        [1., 0., 0., 0.],\n",
       "        [0., 1., 0., 0.]]))"
      ]
     },
     "execution_count": 23,
     "metadata": {},
     "output_type": "execute_result"
    }
   ],
   "source": [
    "def swap(a,b):\n",
    "    temp = np.copy(a)\n",
    "    a[:] = b\n",
    "    b[:] = temp\n",
    "\n",
    "def LU_pivot(A):\n",
    "    m, n = A.shape\n",
    "    L = np.zeros([n,n])\n",
    "    U = np.copy(A)\n",
    "    P = np.eye(n)\n",
    "\n",
    "    print(f'LU:\\n{L}\\n{U}\\n{P}')\n",
    "\n",
    "    for k in range(n): # procesesing pivot (k,k)\n",
    "\n",
    "        # swap row to get greatest pivot\n",
    "        max_r = k \n",
    "        for j in range(k+1,n): \n",
    "            if U[j,k] > U[max_r,k]:\n",
    "                max_r = j\n",
    "        swap(L[k], L[max_r])\n",
    "        swap(U[k], U[max_r])\n",
    "        swap(P[k], P[max_r])\n",
    "\n",
    "        for j in range(k+1,n):\n",
    "            L[j,k] = U[j,k]/U[k,k]\n",
    "            U[j,k:n] -= L[j,k] * U[k,k:n]\n",
    "        \n",
    "        L[k,k] = 1.\n",
    "\n",
    "    return L, U, np.array(P)\n",
    "\n",
    "A = np.array([[2,1,1,0],[4,3,3,1],[8,7,9,5],[6,7,9,8]],float)\n",
    "L, U, P = LU_pivot(A)\n",
    "A, L, U, P"
   ]
  },
  {
   "cell_type": "markdown",
   "metadata": {},
   "source": [
    "3\\. For each of the following sets of dimensions, either\n",
    "  - give the dimensions of the output of an operation on A and B, **or** \n",
    "  - answer *incompatible* if the dimensions are incompatible according to the [numpy rules of broadcasting](https://docs.scipy.org/doc/numpy-1.10.0/user/basics.broadcasting.html)."
   ]
  },
  {
   "cell_type": "markdown",
   "metadata": {
    "collapsed": true
   },
   "source": [
    "    a.  A      (2d array):  3 x 3\n",
    "        B      (1d array):      1\n",
    "\n",
    "    b.  A      (2d array):      2 x 1\n",
    "        B      (3d array):  6 x 4 x 2\n",
    "\n",
    "    c.  A      (2d array):  5 x 4\n",
    "        B      (1d array):      4\n",
    "\n",
    "    d.  A      (3d array):  32 x 64 x 8\n",
    "        B      (3d array):   32 x 1 x 8\n",
    "\n",
    "    e.  A      (3d array):       64 x 1\n",
    "        B      (3d array):  32 x 1 x 16\n",
    "\n",
    "    f.  A      (3d array):  32 x 64 x 2\n",
    "        B      (3d array):   32 x 1 x 8"
   ]
  },
  {
   "cell_type": "markdown",
   "metadata": {},
   "source": [
    "a. 3 x 3\n",
    "\n",
    "b. incompatible\n",
    "\n",
    "c. 5 x 4\n",
    "\n",
    "d. 32 x 64 x 8\n",
    "\n",
    "e. 32 x 64 x 16\n",
    "\n",
    "f. incompatible"
   ]
  },
  {
   "cell_type": "markdown",
   "metadata": {
    "collapsed": true
   },
   "source": [
    "4\\. Write how this matrix would be stored in compressed row format:\n",
    "\n",
    "\\begin{pmatrix}\n",
    "  1 & & & & -2 & -3 \\\\\n",
    "  & 3 &  & & & -9 \\\\\n",
    "  &  &  & -7 & 4 & \\\\ \n",
    "  -1 & 2 & & 7 & & \\\\\n",
    "  -3 & & & 26 & &\n",
    " \\end{pmatrix}"
   ]
  },
  {
   "cell_type": "markdown",
   "metadata": {},
   "source": [
    "| Index | Val | RowPtr | Col |\n",
    "|-------|-----|--------|-----|\n",
    "| 0     | 1   | 0      | 0   |\n",
    "| 1     | -2  | 3      | 3   |\n",
    "| 2     | -3  | 5      | 4   |\n",
    "| 3     | 3   | 7      | 1   |\n",
    "| 4     | -9  | 10     | 4   |\n",
    "| 5     | -7  | 12     | 2   |\n",
    "| 6     | 4   |        | 3   |\n",
    "| 7     | -1  |        | 0   |\n",
    "| 8     | 2   |        | 1   |\n",
    "| 9     | 7   |        | 2   |\n",
    "| 10    | -3  |        | 0   |\n",
    "| 11    | 26  |        | 2   |"
   ]
  }
 ],
 "metadata": {
  "kernelspec": {
   "display_name": "Python 3",
   "language": "python",
   "name": "python3"
  },
  "language_info": {
   "codemirror_mode": {
    "name": "ipython",
    "version": 3
   },
   "file_extension": ".py",
   "mimetype": "text/x-python",
   "name": "python",
   "nbconvert_exporter": "python",
   "pygments_lexer": "ipython3",
   "version": "3.11.6"
  }
 },
 "nbformat": 4,
 "nbformat_minor": 2
}
