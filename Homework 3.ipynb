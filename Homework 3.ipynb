{
 "cells": [
  {
   "cell_type": "markdown",
   "metadata": {},
   "source": [
    "# Homework 3"
   ]
  },
  {
   "cell_type": "markdown",
   "metadata": {},
   "source": [
    "1\\. Add shifts to the QR algorithm\n",
    "\n",
    "Instead of factoring $A_k$ as $Q_k R_k$ (the way the pure QR algorithm without shifts does), the shifted QR algorithms:\n",
    "\n",
    "i. Get the QR factorization $$A_k - s_k I = Q_k R_k$$\n",
    "ii. Set $$A_{k+1} = R_k Q_k + s_k I$$\n",
    "\n",
    "Choose $s_k = A_k(m,m)$, an approximation of an eigenvalue of A. \n",
    "\n",
    "The idea of adding shifts to speed up convergence shows up in many algorithms in numerical linear algebra (including the power method, inverse iteration, and Rayleigh quotient iteration).   "
   ]
  },
  {
   "cell_type": "code",
   "execution_count": 59,
   "metadata": {},
   "outputs": [],
   "source": [
    "import numpy as np"
   ]
  },
  {
   "cell_type": "code",
   "execution_count": 81,
   "metadata": {},
   "outputs": [],
   "source": [
    "max_diff = 1e-32"
   ]
  },
  {
   "cell_type": "code",
   "execution_count": 134,
   "metadata": {
    "collapsed": true
   },
   "outputs": [],
   "source": [
    "def pure_qr(A):\n",
    "\n",
    "    Qk,Rk = np.linalg.qr(A)\n",
    "    Ak = Rk @ Qk\n",
    "    Q = Qk\n",
    "\n",
    "    sk = Ak[-1,-1]\n",
    "    diff = 1\n",
    "    iters = 0\n",
    "\n",
    "    while diff > max_diff:\n",
    "    # while iters < 30000:\n",
    "        Qk,Rk = np.linalg.qr(Ak)\n",
    "        Ak = Rk @ Qk\n",
    "        Q = Q @ Qk\n",
    "\n",
    "        diff = abs(sk - Ak[-1,-1])\n",
    "        sk = Ak[-1,-1]\n",
    "        iters += 1\n",
    "\n",
    "        # if iters % 200 == 0:\n",
    "        #     print(iters, sk, Ak[-1,-1], diff)\n",
    "\n",
    "    return Ak, Q, iters"
   ]
  },
  {
   "cell_type": "code",
   "execution_count": 135,
   "metadata": {},
   "outputs": [],
   "source": [
    "def practical_qr(A):\n",
    "\n",
    "    n = A.shape[0]\n",
    "    refeig = -1\n",
    "    shift_ind = -1\n",
    "\n",
    "    Qk,Rk = np.linalg.qr(A)\n",
    "    Ak = Rk @ Qk\n",
    "    Q = Qk\n",
    "\n",
    "    sk = Ak[refeig,refeig]\n",
    "    diff = 1\n",
    "    iters = 0\n",
    "\n",
    "    while diff > max_diff:\n",
    "    # while iters < 30000:\n",
    "        Qk,Rk = np.linalg.qr(Ak - Ak[shift_ind,shift_ind] * np.eye(n))\n",
    "        Ak = Rk @ Qk + Ak[shift_ind,shift_ind] * np.eye(n)\n",
    "        Q = Q @ Qk\n",
    "\n",
    "        diff = abs(sk - Ak[refeig,refeig])\n",
    "        sk = Ak[refeig,refeig]\n",
    "        iters += 1\n",
    "\n",
    "        # if iters % 200 == 0:\n",
    "        #     print(iters, sk, Ak[refeig,refeig], diff)\n",
    "\n",
    "    return Ak, Q, iters"
   ]
  },
  {
   "cell_type": "code",
   "execution_count": 138,
   "metadata": {
    "collapsed": true
   },
   "outputs": [],
   "source": [
    "n = 4\n",
    "A = np.random.rand(n,n)"
   ]
  },
  {
   "cell_type": "code",
   "execution_count": 139,
   "metadata": {},
   "outputs": [],
   "source": [
    "Ak, Q, iters = practical_qr(A)"
   ]
  },
  {
   "cell_type": "markdown",
   "metadata": {},
   "source": [
    "Check that Q is orthogonal:"
   ]
  },
  {
   "cell_type": "code",
   "execution_count": 140,
   "metadata": {},
   "outputs": [
    {
     "data": {
      "text/plain": [
       "(True, True)"
      ]
     },
     "execution_count": 140,
     "metadata": {},
     "output_type": "execute_result"
    }
   ],
   "source": [
    "np.allclose(np.eye(n), Q @ Q.T), np.allclose(np.eye(n), Q.T @ Q)"
   ]
  },
  {
   "cell_type": "markdown",
   "metadata": {},
   "source": [
    "Diagonals of $A_k$ vs eigenvalues of $A$:"
   ]
  },
  {
   "cell_type": "code",
   "execution_count": 141,
   "metadata": {},
   "outputs": [
    {
     "data": {
      "text/plain": [
       "(array([ 1.95150665, -0.45771427,  0.32476741,  0.32476741]),\n",
       " array([ 1.95150665+0.j        ,  0.32476741+0.42641985j,\n",
       "         0.32476741-0.42641985j, -0.45771427+0.j        ]))"
      ]
     },
     "execution_count": 141,
     "metadata": {},
     "output_type": "execute_result"
    }
   ],
   "source": [
    "np.diagonal(Ak), np.linalg.eigvals(A)"
   ]
  },
  {
   "cell_type": "markdown",
   "metadata": {},
   "source": [
    "Comparing convergence to pure QR:"
   ]
  },
  {
   "cell_type": "code",
   "execution_count": 142,
   "metadata": {},
   "outputs": [],
   "source": [
    "\n",
    "Ak_pure, Q_pure, iters_pure = pure_qr(A)"
   ]
  },
  {
   "cell_type": "code",
   "execution_count": 143,
   "metadata": {},
   "outputs": [
    {
     "name": "stdout",
     "output_type": "stream",
     "text": [
      "[ 1.95150665+0.j          0.32476741+0.42641985j  0.32476741-0.42641985j\n",
      " -0.45771427+0.j        ]\n",
      "[ 1.95150665 -0.45771427  0.32476741  0.32476741] 54\n",
      "[ 1.95150665  0.36702199  0.28251282 -0.45771427] 216\n"
     ]
    }
   ],
   "source": [
    "print(np.linalg.eigvals(A))\n",
    "print(np.diagonal(Ak), iters) \n",
    "print(np.diagonal(Ak_pure), iters_pure) "
   ]
  }
 ],
 "metadata": {
  "kernelspec": {
   "display_name": "Python 3",
   "language": "python",
   "name": "python3"
  },
  "language_info": {
   "codemirror_mode": {
    "name": "ipython",
    "version": 3
   },
   "file_extension": ".py",
   "mimetype": "text/x-python",
   "name": "python",
   "nbconvert_exporter": "python",
   "pygments_lexer": "ipython3",
   "version": "3.11.6"
  }
 },
 "nbformat": 4,
 "nbformat_minor": 2
}
