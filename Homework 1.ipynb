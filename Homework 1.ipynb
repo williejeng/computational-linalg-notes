{
 "cells": [
  {
   "cell_type": "markdown",
   "metadata": {},
   "source": [
    "## Homework 1"
   ]
  },
  {
   "cell_type": "markdown",
   "metadata": {},
   "source": [
    "This is due on Thurs, 6/1"
   ]
  },
  {
   "cell_type": "markdown",
   "metadata": {},
   "source": [
    "**1. Consider the polynomial $p(x) = (x-2)^9 = x^9 - 18x^8 + 144x^7 - 672x^6 + 2016x^5 - 4032x^4 + 5376x^3 - 4608x^2 + 2304x - 512$**\n",
    "\n",
    "  **a. Plot $p(x)$ for $x=1.920,\\,1.921,\\,1.922,\\ldots,2.080$ evaluating $p$ via its coefficients $1,\\,,-18,\\,144,\\ldots$**\n",
    "\n",
    "  **b. Plot the same plot again, now evaluating $p$ via the expression $(x-2)^9$.**\n",
    "\n",
    "  **c. Explain the difference.**\n",
    "  \n",
    "  *(The numpy method linspace will be useful for this)*"
   ]
  },
  {
   "cell_type": "code",
   "execution_count": 2,
   "metadata": {},
   "outputs": [
    {
     "data": {
      "text/plain": [
       "<matplotlib.legend.Legend at 0x117a1edd0>"
      ]
     },
     "execution_count": 2,
     "metadata": {},
     "output_type": "execute_result"
    },
    {
     "data": {
      "image/png": "[encoded data removed]",
      "text/plain": [
       "<Figure size 640x480 with 1 Axes>"
      ]
     },
     "metadata": {},
     "output_type": "display_data"
    }
   ],
   "source": [
    "import numpy as np\n",
    "import matplotlib.pyplot as plt\n",
    "\n",
    "def p1(x): \n",
    "    coeffs = [-512, 2304, -4608, 5376, -4032, 2016, -672, 144, -18, 1]\n",
    "    return sum([c * x**i for (i, c) in enumerate(coeffs)])\n",
    "\n",
    "def p2(x):\n",
    "    return (x-2)**9\n",
    "\n",
    "x = np.linspace(1.920, 2.080, int((2.080-1.920)/(0.001)) + 1)\n",
    "\n",
    "plt.plot(x, [p1(i) for i in x], 'o', label='p1')\n",
    "plt.plot(x, [p2(i) for i in x], 'o', label='p2')\n",
    "plt.legend()"
   ]
  },
  {
   "cell_type": "markdown",
   "metadata": {},
   "source": [
    "a. See graph above in blue\n",
    "\n",
    "b. See graph above in orange\n",
    "\n",
    "c. Having to add many terms of different magnitudes causes evaluating $p1(x)$ to give less precise outputs than $p2(x)$ due to floating-point errors."
   ]
  },
  {
   "cell_type": "markdown",
   "metadata": {},
   "source": [
    "***"
   ]
  },
  {
   "cell_type": "markdown",
   "metadata": {},
   "source": [
    "**2\\. How many different double-precision numbers are there?  Express your answer using powers of 2**"
   ]
  },
  {
   "cell_type": "markdown",
   "metadata": {},
   "source": [
    "\n",
    "- There is a positive 0 and a negative 0, if we only count 0 once then we must subtract 1 from the count.\n",
    "- There is a positive and negative infinity. If we don't count them then we must subtract 2 from the count.\n",
    "- NaN's: represented by the first twelve bits being 0x7FF or 0xFFF and a nonzero mantissa\n",
    "    - If we don't count them then we must subtract $2(2^{52}-1)$ from the count\n",
    "\n",
    "$2^{64} - 2(2^{52}-1) - 3$"
   ]
  },
  {
   "cell_type": "markdown",
   "metadata": {},
   "source": [
    "***"
   ]
  },
  {
   "cell_type": "markdown",
   "metadata": {},
   "source": [
    "**3\\. Using the updated [Numbers Every Programmer Should Know](https://people.eecs.berkeley.edu/~rcs/research/interactive_latency.html), how much longer does a main memory reference take than an L1 cache look-up?  How much longer does a disk seek take than a main memory reference?**"
   ]
  },
  {
   "cell_type": "markdown",
   "metadata": {},
   "source": [
    "A main memory references takes 1000 times as much time than an L1 cache look-up.\n",
    "\n",
    "A disk seek takes 2000 times as much time than a main memory reference."
   ]
  },
  {
   "cell_type": "markdown",
   "metadata": {},
   "source": [
    "***"
   ]
  },
  {
   "cell_type": "markdown",
   "metadata": {},
   "source": [
    "**4\\. From the Halide Video, what are 4 ways to traverse a 2d array?**"
   ]
  },
  {
   "cell_type": "markdown",
   "metadata": {},
   "source": [
    "1. All at once, ahead of time\n",
    "2. As needed, discarding after use\n",
    "3. As needed, reusing old values\n",
    "4. In blocks (e.g. 1x4) and parallelized"
   ]
  },
  {
   "cell_type": "markdown",
   "metadata": {},
   "source": [
    "***"
   ]
  },
  {
   "cell_type": "markdown",
   "metadata": {},
   "source": [
    "**5\\. Using the animations below ([source](https://www.youtube.com/watch?v=3uiEyEKji0M)), explain what the benefits and pitfalls of each approach. Green squares indicate that a value is being read; red indicates a value is being written. Your answers should be longer in length (give more detail) than just two words.**\n",
    "\n",
    "  a. <img src=\"images/Halide1.gif\" alt=\"Halide\" style=\"width: 70%\"/>\n",
    "  \n",
    "  b. <img src=\"images/Halide2.gif\" alt=\"Halide\" style=\"width: 70%\"/>\n",
    "  \n",
    "  c. <img src=\"images/Halide3.gif\" alt=\"Halide\" style=\"width: 70%\"/>"
   ]
  },
  {
   "cell_type": "markdown",
   "metadata": {},
   "source": [
    "a.\n",
    "\n",
    "Benefits: Easiest logic\n",
    "\n",
    "Pitfalls: Poor locality (spends a lot of time loading to cache), uses much memory\n",
    "\n",
    "b.\n",
    "\n",
    "Benefits: Maximum locality, doesn't give data time to be evicted from cache before using it\n",
    "\n",
    "Pitfalls: Redundant, reads same elements from input multiple times\n",
    "\n",
    "c.\n",
    "\n",
    "Benefits: Increases locality, deduces redundant work\n",
    "\n",
    "Pitfalls: Serial dependence, relies on the fact that previous lines have been computed, so can't parallelize across scanlines"
   ]
  },
  {
   "cell_type": "markdown",
   "metadata": {},
   "source": [
    "***"
   ]
  },
  {
   "cell_type": "markdown",
   "metadata": {},
   "source": [
    "**6\\. Prove that if $A = Q B Q^T$ for some orthnogonal matrix $Q$, the $A$ and $B$ have the same singular values.**"
   ]
  },
  {
   "cell_type": "markdown",
   "metadata": {},
   "source": [
    "Let $B = U\\Sigma V^T$.\n",
    "\n",
    "Then $A = QBQ^T = Q(U\\Sigma V^T)Q^T = (QU) \\Sigma (QV)^T$.\n",
    "\n",
    "So $A$ can be decomposed as $U' \\Sigma V'^T$, where $U' = QU$ and $V' = QV$."
   ]
  },
  {
   "cell_type": "markdown",
   "metadata": {},
   "source": [
    "***"
   ]
  },
  {
   "cell_type": "markdown",
   "metadata": {},
   "source": [
    "**7\\. What is the *stochastic* part of *stochastic gradient descent*?**"
   ]
  },
  {
   "cell_type": "markdown",
   "metadata": {},
   "source": [
    "During each iteration of SGD, a subset of the features are chosen stochastically for which to calculate the gradient."
   ]
  }
 ],
 "metadata": {
  "kernelspec": {
   "display_name": "Python 3",
   "language": "python",
   "name": "python3"
  },
  "language_info": {
   "codemirror_mode": {
    "name": "ipython",
    "version": 3
   },
   "file_extension": ".py",
   "mimetype": "text/x-python",
   "name": "python",
   "nbconvert_exporter": "python",
   "pygments_lexer": "ipython3",
   "version": "3.11.6"
  }
 },
 "nbformat": 4,
 "nbformat_minor": 2
}
